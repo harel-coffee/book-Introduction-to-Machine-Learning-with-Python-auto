{
 "cells": [
  {
   "cell_type": "code",
   "execution_count": 3,
   "metadata": {},
   "outputs": [
    {
     "ename": "ImportError",
     "evalue": "cannot import name 'imread' from 'scipy.misc' (c:\\python37\\lib\\site-packages\\scipy\\misc\\__init__.py)",
     "output_type": "error",
     "traceback": [
      "\u001b[1;31m---------------------------------------------------------------------------\u001b[0m",
      "\u001b[1;31mImportError\u001b[0m                               Traceback (most recent call last)",
      "\u001b[1;32m<ipython-input-3-f16451a763ff>\u001b[0m in \u001b[0;36m<module>\u001b[1;34m\u001b[0m\n\u001b[0;32m      3\u001b[0m \u001b[1;32mimport\u001b[0m \u001b[0mpandas\u001b[0m \u001b[1;32mas\u001b[0m \u001b[0mpd\u001b[0m\u001b[1;33m\u001b[0m\u001b[1;33m\u001b[0m\u001b[0m\n\u001b[0;32m      4\u001b[0m \u001b[1;32mimport\u001b[0m \u001b[0mscipy\u001b[0m\u001b[1;33m\u001b[0m\u001b[1;33m\u001b[0m\u001b[0m\n\u001b[1;32m----> 5\u001b[1;33m \u001b[1;32mfrom\u001b[0m \u001b[0mscipy\u001b[0m\u001b[1;33m.\u001b[0m\u001b[0mmisc\u001b[0m \u001b[1;32mimport\u001b[0m \u001b[0mimread\u001b[0m\u001b[1;33m\u001b[0m\u001b[1;33m\u001b[0m\u001b[0m\n\u001b[0m\u001b[0;32m      6\u001b[0m \u001b[1;32mfrom\u001b[0m \u001b[0mimageio\u001b[0m \u001b[1;32mimport\u001b[0m \u001b[0mimread\u001b[0m\u001b[1;33m\u001b[0m\u001b[1;33m\u001b[0m\u001b[0m\n\u001b[0;32m      7\u001b[0m \u001b[1;31m# import mglearn\u001b[0m\u001b[1;33m\u001b[0m\u001b[1;33m\u001b[0m\u001b[1;33m\u001b[0m\u001b[0m\n",
      "\u001b[1;31mImportError\u001b[0m: cannot import name 'imread' from 'scipy.misc' (c:\\python37\\lib\\site-packages\\scipy\\misc\\__init__.py)"
     ]
    }
   ],
   "source": [
    "import sys, os\n",
    "sys.path.append('../../')\n",
    "import pandas as pd\n",
    "import scipy\n",
    "from imageio import imread\n",
    "# import mglearn\n",
    "scipy.__version__\n",
    "\n",
    "# # The file has no headers naming the columns, so we pass header=None\n",
    "# # and provide the column names explicitly in \"names\"\n",
    "# adult_path = os.path.join(mglearn.datasets.DATA_PATH, \"adult.data\")\n",
    "# data = pd.read_csv(\n",
    "#     adult_path, header=None, index_col=False,\n",
    "#     names=['age', 'workclass', 'fnlwgt', 'education',  'education-num',\n",
    "#            'marital-status', 'occupation', 'relationship', 'race', 'gender',\n",
    "#            'capital-gain', 'capital-loss', 'hours-per-week', 'native-country',\n",
    "#            'income'])\n",
    "# # For illustration purposes, we only select some of the columns\n",
    "# data = data[['age', 'workclass', 'education', 'gender', 'hours-per-week',\n",
    "#              'occupation', 'income']]\n",
    "# # IPython.display allows nice output formatting within the Jupyter notebook\n",
    "# display(data.head())"
   ]
  }
 ],
 "metadata": {
  "kernelspec": {
   "display_name": "Python 3",
   "language": "python",
   "name": "python3"
  }
 },
 "nbformat": 4,
 "nbformat_minor": 2
}
